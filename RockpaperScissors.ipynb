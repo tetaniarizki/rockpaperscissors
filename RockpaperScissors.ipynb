{
  "nbformat": 4,
  "nbformat_minor": 0,
  "metadata": {
    "colab": {
      "provenance": []
    },
    "kernelspec": {
      "name": "python3",
      "display_name": "Python 3"
    },
    "language_info": {
      "name": "python"
    }
  },
  "cells": [
    {
      "cell_type": "markdown",
      "source": [
        "The following is an analysis of the classification of rock, paper, scissors image data. The analysis used to classify the image data is using CNN."
      ],
      "metadata": {
        "id": "PA0Ulx5y2kzf"
      }
    },
    {
      "cell_type": "markdown",
      "source": [
        "# Importing Libraries"
      ],
      "metadata": {
        "id": "bbXI43BM2mWC"
      }
    },
    {
      "cell_type": "code",
      "source": [
        "import tensorflow as tf\n",
        "import tensorflow_datasets as tfds\n",
        "import matplotlib.pyplot as plt\n",
        "import numpy as np\n",
        "import platform\n",
        "import datetime\n",
        "import os\n",
        "import math\n",
        "import random\n",
        "import zipfile\n",
        "import urllib.request\n",
        "from keras_preprocessing.image import ImageDataGenerator\n",
        "from tensorflow.keras.optimizers import RMSprop\n",
        "from sklearn.model_selection import train_test_split"
      ],
      "metadata": {
        "id": "4FlDyLfjYZ-D"
      },
      "execution_count": null,
      "outputs": []
    },
    {
      "cell_type": "code",
      "source": [
        "try:\n",
        "    %tensorflow_version 2.x\n",
        "except:\n",
        "    pass"
      ],
      "metadata": {
        "colab": {
          "base_uri": "https://localhost:8080/"
        },
        "id": "pzHrWdibaQ7-",
        "outputId": "48f8d4c1-cca5-42e8-bf94-4b6703936798"
      },
      "execution_count": null,
      "outputs": [
        {
          "output_type": "stream",
          "name": "stdout",
          "text": [
            "Colab only includes TensorFlow 2.x; %tensorflow_version has no effect.\n"
          ]
        }
      ]
    },
    {
      "cell_type": "code",
      "source": [
        "print('Python version:', platform.python_version())\n",
        "print('Tensorflow version:', tf.__version__)\n",
        "print('Keras version:', tf.keras.__version__)"
      ],
      "metadata": {
        "colab": {
          "base_uri": "https://localhost:8080/"
        },
        "id": "4TyEUg_JaYqA",
        "outputId": "742cf510-a73c-4357-ff47-c8fa23f52b56"
      },
      "execution_count": null,
      "outputs": [
        {
          "output_type": "stream",
          "name": "stdout",
          "text": [
            "Python version: 3.7.13\n",
            "Tensorflow version: 2.8.2\n",
            "Keras version: 2.8.0\n"
          ]
        }
      ]
    },
    {
      "cell_type": "markdown",
      "source": [
        "# Dataset"
      ],
      "metadata": {
        "id": "tjORIFc5ayiM"
      }
    },
    {
      "cell_type": "code",
      "source": [
        "# !wget --no-check-certificate \\\n",
        "#     https://github.com/dicodingacademy/assets/releases/download/release/rockpaperscissors.zip \\\n",
        "#     -o /tmp/rockpaperscissors.zip"
      ],
      "metadata": {
        "id": "ruEnqwWTT3dQ"
      },
      "execution_count": null,
      "outputs": []
    },
    {
      "cell_type": "code",
      "source": [
        "data_url = 'https://github.com/dicodingacademy/assets/releases/download/release/rockpaperscissors.zip'\n",
        "urllib.request.urlretrieve(data_url, 'rockpaperscissors.zip')\n",
        "local_file = 'rockpaperscissors.zip'\n",
        "zip_ref = zipfile.ZipFile(local_file, 'r')\n",
        "zip_ref.extractall('data/')\n",
        "zip_ref.close()"
      ],
      "metadata": {
        "id": "aTKofbamak1d"
      },
      "execution_count": null,
      "outputs": []
    },
    {
      "cell_type": "code",
      "source": [
        "pip install split-folders"
      ],
      "metadata": {
        "colab": {
          "base_uri": "https://localhost:8080/"
        },
        "id": "R7InmgxnRTWO",
        "outputId": "5e500788-75aa-4179-c19f-c08c5ed8c820"
      },
      "execution_count": null,
      "outputs": [
        {
          "output_type": "stream",
          "name": "stdout",
          "text": [
            "Looking in indexes: https://pypi.org/simple, https://us-python.pkg.dev/colab-wheels/public/simple/\n",
            "Collecting split-folders\n",
            "  Downloading split_folders-0.5.1-py3-none-any.whl (8.4 kB)\n",
            "Installing collected packages: split-folders\n",
            "Successfully installed split-folders-0.5.1\n"
          ]
        }
      ]
    },
    {
      "cell_type": "code",
      "source": [
        "import splitfolders\n",
        "base_dir='data/rockpaperscissors/rps-cv-images'\n",
        "splitfolders.ratio(base_dir, output='data/rockpaperscissors', seed=1337, ratio = (.6, .4))\n",
        "\n",
        "train_dir= os.path.join('data/rockpaperscissors','train')\n",
        "validation_dir= os.path.join('data/rockpaperscissors','val')"
      ],
      "metadata": {
        "colab": {
          "base_uri": "https://localhost:8080/"
        },
        "id": "eim_K3kCQyMC",
        "outputId": "030fbc77-a2f0-46db-c685-e1429fc53dd8"
      },
      "execution_count": null,
      "outputs": [
        {
          "output_type": "stream",
          "name": "stderr",
          "text": [
            "Copying files: 2188 files [00:00, 2570.49 files/s]\n"
          ]
        }
      ]
    },
    {
      "cell_type": "code",
      "source": [
        "rock_dir = os.path.join(base_dir, 'rock')\n",
        "paper_dir = os.path.join(base_dir, 'paper')\n",
        "scissors_dir = os.path.join(base_dir, 'scissors')"
      ],
      "metadata": {
        "id": "4A77BGieV7t1"
      },
      "execution_count": null,
      "outputs": []
    },
    {
      "cell_type": "markdown",
      "source": [
        "# Train Test Split"
      ],
      "metadata": {
        "id": "0naT2n_DxzJz"
      }
    },
    {
      "cell_type": "code",
      "source": [
        "train_rock=os.path.join(train_dir, 'rock')\n",
        "train_paper=os.path.join(train_dir, 'paper')\n",
        "train_scissors=os.path.join(train_dir, 'scissors')\n",
        "validation_rock=os.path.join(validation_dir, 'rock')\n",
        "validation_paper=os.path.join(validation_dir, 'paper')\n",
        "validation_scissors=os.path.join(validation_dir, 'scissors')"
      ],
      "metadata": {
        "id": "bdFfP-rYXpu2"
      },
      "execution_count": null,
      "outputs": []
    },
    {
      "cell_type": "code",
      "source": [
        "train_rock , val_rock = train_test_split(os.listdir (rock_dir), test_size=0.4)\n",
        "train_paper , val_paper = train_test_split(os.listdir (paper_dir), test_size=0.4)\n",
        "train_scissors , val_scissors = train_test_split(os.listdir (scissors_dir), test_size=0.4)"
      ],
      "metadata": {
        "id": "oHOeCiqdWWXR"
      },
      "execution_count": null,
      "outputs": []
    },
    {
      "cell_type": "markdown",
      "source": [
        "# ImageDataGenerator to Preprocess image and Augmentasi Image"
      ],
      "metadata": {
        "id": "JFkaI5Y5x7fp"
      }
    },
    {
      "cell_type": "code",
      "source": [
        "train_datagen = ImageDataGenerator(\n",
        "                          rescale = 1./255.,\n",
        "                          rotation_range=20,\n",
        "                          horizontal_flip = True,\n",
        "                          shear_range = 0.2,\n",
        "                          fill_mode = 'nearest')\n",
        "test_datagen = ImageDataGenerator(\n",
        "                          rescale = 1./255.)"
      ],
      "metadata": {
        "id": "zrgv_JicXd5U"
      },
      "execution_count": null,
      "outputs": []
    },
    {
      "cell_type": "code",
      "source": [
        "train_generator=train_datagen.flow_from_directory(\n",
        "                                                      train_dir,\n",
        "                                                      batch_size=32,\n",
        "                                                      class_mode='categorical',\n",
        "                                                      target_size=(150, 150))\n",
        "\n",
        "test_generator=test_datagen.flow_from_directory(\n",
        "                                                      validation_dir,\n",
        "                                                      batch_size=32,\n",
        "                                                      class_mode='categorical',\n",
        "                                                      target_size=(150, 150))"
      ],
      "metadata": {
        "colab": {
          "base_uri": "https://localhost:8080/"
        },
        "id": "xb8ChcA6dQ1S",
        "outputId": "1a222163-0576-43f5-fddf-8b08dbf466e6"
      },
      "execution_count": null,
      "outputs": [
        {
          "output_type": "stream",
          "name": "stdout",
          "text": [
            "Found 1312 images belonging to 3 classes.\n",
            "Found 876 images belonging to 3 classes.\n"
          ]
        }
      ]
    },
    {
      "cell_type": "markdown",
      "source": [
        "# Build and Training Model with CNN"
      ],
      "metadata": {
        "id": "JcdLclTgyNWS"
      }
    },
    {
      "cell_type": "code",
      "source": [
        "model=tf.keras.models.Sequential([\n",
        "                      tf.keras.layers.Conv2D(16, (3,3), activation='relu', input_shape=(150, 150, 3)),\n",
        "                      tf.keras.layers.MaxPooling2D(2,2),\n",
        "                      tf.keras.layers.Conv2D(32, (3,3), activation='relu'),\n",
        "                      tf.keras.layers.MaxPooling2D(2,2), \n",
        "                      tf.keras.layers.Conv2D(64, (3,3), activation='relu'),\n",
        "                      tf.keras.layers.MaxPooling2D(2,2), \n",
        "                      # Flatten the results to feed into a DNN\n",
        "                      tf.keras.layers.Flatten(), \n",
        "                      # 512 neuron hidden layer\n",
        "                      tf.keras.layers.Dense(512, activation='relu'), \n",
        "                      # end with 3 Neuron Dense, activated by softmax\n",
        "                      tf.keras.layers.Dense(3, activation='softmax')\n",
        "    ])\n",
        "model.compile(optimizer='adam',\n",
        "    # optimizer=RMSprop(learning_rate=0.0001),\n",
        "                loss='categorical_crossentropy',\n",
        "                metrics=['accuracy']) \n",
        "history = model.fit(train_generator,\n",
        "                            validation_data=test_generator,\n",
        "                            steps_per_epoch=25,\n",
        "                            validation_steps=5,\n",
        "                            epochs=10,\n",
        "                            verbose=1\n",
        "                            )"
      ],
      "metadata": {
        "colab": {
          "base_uri": "https://localhost:8080/"
        },
        "id": "cpTuVOiBdUN_",
        "outputId": "67536582-a6fb-4462-9a1b-c9784bba5d03"
      },
      "execution_count": null,
      "outputs": [
        {
          "output_type": "stream",
          "name": "stdout",
          "text": [
            "Epoch 1/10\n",
            "25/25 [==============================] - 34s 1s/step - loss: 1.0735 - accuracy: 0.4238 - val_loss: 0.9270 - val_accuracy: 0.5813\n",
            "Epoch 2/10\n",
            "25/25 [==============================] - 24s 938ms/step - loss: 0.8288 - accuracy: 0.6513 - val_loss: 0.6834 - val_accuracy: 0.7312\n",
            "Epoch 3/10\n",
            "25/25 [==============================] - 23s 901ms/step - loss: 0.6883 - accuracy: 0.7287 - val_loss: 0.7283 - val_accuracy: 0.7250\n",
            "Epoch 4/10\n",
            "25/25 [==============================] - 24s 945ms/step - loss: 0.5442 - accuracy: 0.8062 - val_loss: 0.4641 - val_accuracy: 0.8062\n",
            "Epoch 5/10\n",
            "25/25 [==============================] - 23s 897ms/step - loss: 0.3799 - accuracy: 0.8550 - val_loss: 0.2794 - val_accuracy: 0.9062\n",
            "Epoch 6/10\n",
            "25/25 [==============================] - 24s 952ms/step - loss: 0.2601 - accuracy: 0.9100 - val_loss: 0.2719 - val_accuracy: 0.9125\n",
            "Epoch 7/10\n",
            "25/25 [==============================] - 23s 900ms/step - loss: 0.1848 - accuracy: 0.9413 - val_loss: 0.1858 - val_accuracy: 0.9500\n",
            "Epoch 8/10\n",
            "25/25 [==============================] - 23s 900ms/step - loss: 0.1566 - accuracy: 0.9513 - val_loss: 0.1547 - val_accuracy: 0.9438\n",
            "Epoch 9/10\n",
            "25/25 [==============================] - 23s 898ms/step - loss: 0.1517 - accuracy: 0.9488 - val_loss: 0.1865 - val_accuracy: 0.9312\n",
            "Epoch 10/10\n",
            "25/25 [==============================] - 24s 952ms/step - loss: 0.0924 - accuracy: 0.9737 - val_loss: 0.1749 - val_accuracy: 0.9438\n"
          ]
        }
      ]
    },
    {
      "cell_type": "code",
      "source": [
        "def render_training_history(training_history):\n",
        "    loss = training_history.history['loss']\n",
        "    val_loss = training_history.history['val_loss']\n",
        "\n",
        "    accuracy = training_history.history['accuracy']\n",
        "    val_accuracy = training_history.history['val_accuracy']\n",
        "\n",
        "    plt.figure(figsize=(14, 4))\n",
        "\n",
        "    plt.subplot(1, 2, 1)\n",
        "    plt.title('Loss')\n",
        "    plt.xlabel('Epoch')\n",
        "    plt.ylabel('Loss')\n",
        "    plt.plot(loss, label='Training set')\n",
        "    plt.plot(val_loss, label='Test set', linestyle='--')\n",
        "    plt.legend()\n",
        "    plt.grid(linestyle='--', linewidth=1, alpha=0.5)\n",
        "\n",
        "    plt.subplot(1, 2, 2)\n",
        "    plt.title('Accuracy')\n",
        "    plt.xlabel('Epoch')\n",
        "    plt.ylabel('Accuracy')\n",
        "    plt.plot(accuracy, label='Training set')\n",
        "    plt.plot(val_accuracy, label='Test set', linestyle='--')\n",
        "    plt.legend()\n",
        "    plt.grid(linestyle='--', linewidth=1, alpha=0.5)\n",
        "\n",
        "    plt.show()"
      ],
      "metadata": {
        "id": "3rldbS543rC3"
      },
      "execution_count": null,
      "outputs": []
    },
    {
      "cell_type": "code",
      "source": [
        "render_training_history(history)"
      ],
      "metadata": {
        "colab": {
          "base_uri": "https://localhost:8080/",
          "height": 295
        },
        "id": "YKCd6rI23swX",
        "outputId": "854d40de-6fd5-46c4-d3ed-6b699cbaf16d"
      },
      "execution_count": null,
      "outputs": [
        {
          "output_type": "display_data",
          "data": {
            "text/plain": [
              "<Figure size 1008x288 with 2 Axes>"
            ],
            "image/png": "[encoded data removed]"
          },
          "metadata": {
            "needs_background": "light"
          }
        }
      ]
    }
  ]
}